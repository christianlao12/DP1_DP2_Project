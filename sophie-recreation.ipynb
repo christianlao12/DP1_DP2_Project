{
 "cells": [
  {
   "cell_type": "code",
   "execution_count": null,
   "metadata": {},
   "outputs": [],
   "source": [
    "import pandas as pd\n",
    "import numpy as np\n",
    "import matplotlib.pyplot as plt\n",
    "from matplotlib import ticker\n",
    "from matplotlib.dates import DateFormatter\n",
    "from collections import Counter\n",
    "import seaborn as sns\n",
    "\n",
    "sns.set_theme()\n",
    "sns.set_context(\"paper\")\n",
    "sns.set_palette(\"colorblind\")\n",
    "\n",
    "colors = sns.color_palette(\"colorblind\")\n"
   ]
  },
  {
   "cell_type": "code",
   "execution_count": null,
   "metadata": {},
   "outputs": [],
   "source": [
    "# Loading in SOPHIE Data\n",
    "sophie80df = pd.read_csv(\"Data/SOPHIE_EPT80_1990-2022.csv\", low_memory=False)\n",
    "sophie80df['Date_UTC'] = pd.to_datetime(sophie80df['Date_UTC'])\n",
    "sophie80df = sophie80df[sophie80df['Date_UTC'].between('1996','2022')].reset_index(drop=True)\n",
    "sophie80df['Duration'] = np.append(np.diff(sophie80df['Date_UTC']), np.array([pd.to_timedelta(0,'h')],dtype=np.timedelta64))\n",
    "sophie80df['Delbay'] = pd.to_numeric(sophie80df['Delbay'],errors='coerce')\n",
    "sophie80df = sophie80df[sophie80df['Date_UTC'].between('1996','2014')]\n",
    "\n",
    "array = np.zeros(len(sophie80df['Date_UTC']),dtype=int)\n",
    "for i, __ in sophie80df.iloc[2:-2].iterrows():\n",
    "    if (sophie80df.iloc[i-1]['Phase']==1) and (sophie80df.iloc[i]['Phase']==2) and (sophie80df.iloc[i]['Flag']==0) and (sophie80df.iloc[i+1]['Phase']==3):# and (sophie80df.iloc[i+2]['Phase']==1):\n",
    "        array[i] = 1\n",
    "        continue\n",
    "    if (sophie80df.iloc[i-1]['Phase']==3) and (sophie80df.iloc[i-1]['Flag']==0) and (sophie80df.iloc[i]['Phase'] == 2) and (sophie80df.iloc[i]['Flag']==0) and (sophie80df.iloc[i+1]['Phase'] == 3):\n",
    "        array[i] = 2\n",
    "        continue\n",
    "    else:\n",
    "        array[i] = 0\n",
    "        continue\n",
    "array[0] = 1\n",
    "sophie80df['Type'] = array\n"
   ]
  },
  {
   "cell_type": "code",
   "execution_count": null,
   "metadata": {},
   "outputs": [],
   "source": [
    "Isolated_Onsets = sophie80df[sophie80df['Type']==1]\n",
    "isolated_wt_array = np.diff(Isolated_Onsets['Date_UTC'])/pd.to_timedelta('1h')\n",
    "isolated_wt_array_cut = isolated_wt_array[isolated_wt_array<10]\n",
    "fig, axes = plt.subplots(figsize=(10,6))\n",
    "\n",
    "sns.histplot(isolated_wt_array_cut, bins=np.arange(0,10.25,0.25), ax=axes, stat='percent', label='Isolated EPT80: Mean: {:.2f}, Std. Dev: {:.2f}, Median: {:.2f}'.format(np.nanmean(isolated_wt_array_cut),np.nanstd(isolated_wt_array_cut),np.nanmedian(isolated_wt_array_cut)))\n",
    "axes.xaxis.set_major_locator(ticker.MultipleLocator(2))\n",
    "axes.set_ylim(0,14.5)\n",
    "axes.legend(loc='center right')\n",
    "axes.set_xlabel('Waiting Time (Hours)')\n",
    "axes.set_ylabel('Probability (%)')\n"
   ]
  },
  {
   "cell_type": "code",
   "execution_count": null,
   "metadata": {},
   "outputs": [],
   "source": [
    "allonsets = sophie80df.iloc[np.intersect1d(np.where(sophie80df['Phase']==2),np.where(sophie80df['Flag']==0))]\n",
    "allonsets_wt_array = np.diff(allonsets['Date_UTC'])/pd.to_timedelta('1h')\n",
    "allonsets_wt_array_cut = allonsets_wt_array[allonsets_wt_array<10]\n",
    "fig, axes = plt.subplots(figsize=(10,6))\n",
    "\n",
    "sns.histplot(allonsets_wt_array_cut, bins=np.arange(0,10.25,0.25), ax=axes, stat='percent', label='All EPT80: Mean: {:.2f}, Std. Dev: {:.2f}, Median: {:.2f}'.format(np.nanmean(allonsets_wt_array_cut),np.nanstd(allonsets_wt_array_cut),np.nanmedian(allonsets_wt_array_cut)))\n",
    "axes.xaxis.set_major_locator(ticker.MultipleLocator(2))\n",
    "axes.set_ylim(0,14.5)\n",
    "axes.legend(loc='center right')\n",
    "axes.set_xlabel('Waiting Time (Hours)')\n",
    "axes.set_ylabel('Probability (%)')\n"
   ]
  },
  {
   "cell_type": "code",
   "execution_count": null,
   "metadata": {},
   "outputs": [],
   "source": []
  }
 ],
 "metadata": {
  "kernelspec": {
   "display_name": "base",
   "language": "python",
   "name": "python3"
  },
  "language_info": {
   "codemirror_mode": {
    "name": "ipython",
    "version": 3
   },
   "file_extension": ".py",
   "mimetype": "text/x-python",
   "name": "python",
   "nbconvert_exporter": "python",
   "pygments_lexer": "ipython3",
   "version": "3.9.13"
  },
  "orig_nbformat": 4
 },
 "nbformat": 4,
 "nbformat_minor": 2
}
