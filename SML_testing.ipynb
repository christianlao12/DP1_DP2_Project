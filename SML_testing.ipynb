{
 "cells": [
  {
   "cell_type": "code",
   "execution_count": null,
   "metadata": {},
   "outputs": [],
   "source": [
    "import pandas as pd\n",
    "import numpy as np\n",
    "import matplotlib.pyplot as plt\n",
    "from matplotlib import ticker\n",
    "from matplotlib.dates import DateFormatter\n",
    "import seaborn as sns\n",
    "import statsmodels.api as sm\n",
    "\n",
    "sns.set_theme()\n",
    "sns.set_context(\"talk\")\n",
    "sns.set_palette(\"colorblind\")\n",
    "\n",
    "colors = sns.color_palette(\"colorblind\")\n",
    "date_form = DateFormatter(\"%Y-%m-%d\\n%H:%M\")\n"
   ]
  },
  {
   "cell_type": "code",
   "execution_count": null,
   "metadata": {},
   "outputs": [],
   "source": [
    "sml_lt_df = pd.read_csv(\"Data/SML LT 2001.csv\")\n",
    "sml_lt_df['Date_UTC'] = pd.to_datetime(sml_lt_df['Date_UTC'])\n",
    "\n",
    "sme_df = pd.read_csv(\"Data/SME 2001.csv\")\n",
    "sme_df['Date_UTC'] = pd.to_datetime(sme_df['Date_UTC'])\n",
    "\n",
    "ng2011df = pd.read_csv(\"Data/substorms-newell-20000101_000000_to_20070101_000000.csv\")\n",
    "ng2011df['Date_UTC'] = pd.to_datetime(ng2011df['Date_UTC'])\n",
    "ng2011_2001 = ng2011df[ng2011df['Date_UTC'].dt.year == 2001].reset_index(drop=True)"
   ]
  },
  {
   "cell_type": "code",
   "execution_count": null,
   "metadata": {},
   "outputs": [],
   "source": [
    "no_sectors = 7\n",
    "MLT_sectors = np.concatenate([np.arange((24-np.floor(no_sectors/2)), 24), np.arange(0, no_sectors/2)]).ravel().astype(int)\n",
    "allsec = [i for i in np.arange(0,24)]\n",
    "allsec_names = [f'SMLr{i:02d}' for i in allsec]\n",
    "MLT_sec_names =  [f'SMLr{i:02d}' for i in MLT_sectors]\n",
    "SMLnightdf = pd.DataFrame({'Date_UTC':sml_lt_df['Date_UTC'],'SMLnight':sml_lt_df[MLT_sec_names].min(axis=1)})\n",
    "SMLalldf = pd.DataFrame({'Date_UTC':sml_lt_df['Date_UTC'],'SMLall':sml_lt_df[allsec_names].min(axis=1)})"
   ]
  },
  {
   "cell_type": "code",
   "execution_count": null,
   "metadata": {},
   "outputs": [],
   "source": [
    "smlnight_scaled =((SMLnightdf['SMLnight'] - SMLnightdf['SMLnight'].mean())/SMLnightdf['SMLnight'].std()).to_numpy()\n",
    "sml_scaled = ((sme_df['SML'] - sme_df['SML'].mean())/sme_df['SML'].std()).to_numpy()\n"
   ]
  },
  {
   "attachments": {},
   "cell_type": "markdown",
   "metadata": {},
   "source": [
    "## Descriptive statistics of the SML nightside modification"
   ]
  },
  {
   "cell_type": "code",
   "execution_count": null,
   "metadata": {},
   "outputs": [],
   "source": [
    "sml5_acorr = sm.tsa.stattools.acf(smlnight_scaled, nlags=12*60)\n",
    "sml_acorr = sm.tsa.stattools.acf(sml_scaled, nlags=12*60)\n",
    "\n",
    "fig, ax = plt.subplots(figsize=(10, 6))\n",
    "\n",
    "ax.plot(sml5_acorr, label='SMLnight')\n",
    "ax.plot(sml_acorr, label='SML')\n",
    "ax.set_xlabel('Lag (min)')\n",
    "ax.set_ylabel('Correlation')\n",
    "ax.legend()\n",
    "ax.set_title('Autocorrelation of SMLnight and SML')\n",
    "\n",
    "plt.tight_layout(pad=1)"
   ]
  },
  {
   "cell_type": "code",
   "execution_count": null,
   "metadata": {},
   "outputs": [],
   "source": [
    "sml5_acov = sm.tsa.stattools.acovf(smlnight_scaled, nlag=12*60)\n",
    "sml_acov = sm.tsa.stattools.acovf(sml_scaled, nlag=12*60)\n",
    "\n",
    "fig, ax = plt.subplots(figsize=(10, 6))\n",
    "\n",
    "ax.plot(sml5_acov, label='SMLnight')\n",
    "ax.plot(sml_acov, label='SML')\n",
    "ax.set_xlabel('Lag (min)')\n",
    "ax.set_ylabel('Covariance')\n",
    "ax.legend()\n",
    "ax.set_title('Autocovariance of SMLnight and SML')\n",
    "\n",
    "plt.tight_layout(pad=1)"
   ]
  },
  {
   "cell_type": "code",
   "execution_count": null,
   "metadata": {},
   "outputs": [],
   "source": [
    "sml5_ccorr = sm.tsa.ccf(smlnight_scaled, sml_scaled, adjusted=False)\n",
    "sml_ccorr = sm.tsa.ccf(sml_scaled, smlnight_scaled, adjusted=False)\n",
    "fig, ax = plt.subplots(figsize=(10, 6))\n",
    "\n",
    "ax.plot(sml5_ccorr, label='SMLnight-SML')\n",
    "ax.plot(sml_ccorr, label='SML-SMLnight')\n",
    "ax.set_xlabel('Lag (min)')\n",
    "ax.set_ylabel('Correlation')\n",
    "ax.legend()\n",
    "ax.set_title('Cross-Correlations ')\n",
    "ax.set_xlim(0, 12*60)\n",
    "plt.tight_layout(pad=1)\n"
   ]
  },
  {
   "attachments": {},
   "cell_type": "markdown",
   "metadata": {},
   "source": [
    "## Substorm Identification on the new SMLnightside"
   ]
  },
  {
   "cell_type": "code",
   "execution_count": null,
   "metadata": {},
   "outputs": [],
   "source": [
    "onsettimes = []\n",
    "onsetsectors = []\n",
    "minimas = []\n",
    "minimatimes = []\n",
    "sml_array = sml_lt_df[MLT_sec_names].values\n",
    "\n",
    "untilnext = 0\n",
    "for index, __ in SMLnightdf[:-30].iterrows():\n",
    "    onsettime = SMLnightdf['Date_UTC'][index]\n",
    "    onsetsml = SMLnightdf['SMLnight'][index]\n",
    "    onsetsector = np.where(sml_array[index]==onsetsml)[0]\n",
    "    if untilnext > 1:\n",
    "        untilnext -= 1\n",
    "        continue\n",
    "    if (SMLnightdf['SMLnight'][index + 1] - onsetsml) < -15:\n",
    "        if (SMLnightdf['SMLnight'][index + 2] - onsetsml) < -30:\n",
    "            if (SMLnightdf['SMLnight'][index + 3] - onsetsml) < -45:\n",
    "                window = SMLnightdf['SMLnight'][index + 4:index + 30]\n",
    "                if np.sum(window)/26 - onsetsml < -100:\n",
    "                    onsettimes.append(onsettime)\n",
    "                    onsetsectors.append(', '.join([str(element) for element in MLT_sectors[onsetsector]]))\n",
    "                    minimas.append(window.min())\n",
    "                    minimatimes.append(SMLnightdf['Date_UTC'][window.idxmin()])\n",
    "                    untilnext = 20\n",
    "    else:\n",
    "        untilnext -= 1\n",
    "        \n",
    "ng2011_night = pd.DataFrame({'Date_UTC':onsettimes, 'MLT_onset':onsetsectors, 'SML_Minima': minimas, 'Date_UTC_minima': minimatimes})"
   ]
  },
  {
   "cell_type": "code",
   "execution_count": null,
   "metadata": {},
   "outputs": [],
   "source": [
    "ng2011_night.to_csv('Data/substormonsets_SMLnight_2001.csv',index=False)"
   ]
  },
  {
   "cell_type": "code",
   "execution_count": null,
   "metadata": {},
   "outputs": [],
   "source": [
    "fig,ax = plt.subplots(figsize=(21, 7))\n",
    "\n",
    "t_diff = np.setdiff1d(ng2011_night['Date_UTC'], ng2011_2001['Date_UTC'])[0]\n",
    "tstart = t_diff - pd.Timedelta('45 minutes')\n",
    "tend = t_diff + pd.Timedelta('45 minutes')\n",
    "\n",
    "x = SMLnightdf['Date_UTC'][SMLnightdf['Date_UTC'].between(tstart,tend)]\n",
    "y = SMLnightdf['SMLnight'][SMLnightdf['Date_UTC'].between(tstart,tend)]\n",
    "x1 = sme_df['Date_UTC'][sme_df['Date_UTC'].between(tstart,tend)]\n",
    "y1 = sme_df['SML'][sme_df['Date_UTC'].between(tstart,tend)]\n",
    "\n",
    "ax.plot(x,y,label='SMLnight')\n",
    "ax.plot(x1,y1,label='SML')\n",
    "ax.axvline(pd.to_datetime(t_diff),c='k',ls='--',label='NG2011 Night MLT Onset')\n",
    "ax.set_xlabel('Time')\n",
    "ax.set_ylabel('SML (nT)')\n",
    "ax.legend()\n",
    "ax.set_title('SMLnight Onset but no SML onset')\n",
    "ax.xaxis.set_major_formatter(date_form)"
   ]
  },
  {
   "cell_type": "code",
   "execution_count": null,
   "metadata": {},
   "outputs": [],
   "source": [
    "ng2011_night[ng2011_night['Date_UTC'].between(tstart,tend)]"
   ]
  },
  {
   "cell_type": "code",
   "execution_count": null,
   "metadata": {},
   "outputs": [],
   "source": [
    "ng2011_2001[ng2011_2001['Date_UTC'].between(tstart,tend)]"
   ]
  },
  {
   "cell_type": "code",
   "execution_count": null,
   "metadata": {},
   "outputs": [],
   "source": [
    "fig,ax = plt.subplots(figsize=(21, 7))\n",
    "\n",
    "t_diff = np.setdiff1d(ng2011_2001['Date_UTC'], ng2011_night['Date_UTC'])[0]\n",
    "tstart = t_diff - pd.Timedelta('45 minutes')\n",
    "tend = t_diff + pd.Timedelta('45 minutes')\n",
    "\n",
    "x = SMLnightdf['Date_UTC'][SMLnightdf['Date_UTC'].between(tstart,tend)]\n",
    "y = SMLnightdf['SMLnight'][SMLnightdf['Date_UTC'].between(tstart,tend)]\n",
    "x1 = sme_df['Date_UTC'][sme_df['Date_UTC'].between(tstart,tend)]\n",
    "y1 = sme_df['SML'][sme_df['Date_UTC'].between(tstart,tend)]\n",
    "\n",
    "ax.plot(x,y,label='SMLnight')\n",
    "ax.plot(x1,y1,label='SML')\n",
    "ax.axvline(pd.to_datetime(t_diff),c='k', ls='--', label='NG2011 Original Onset')\n",
    "ax.set_xlabel('Time')\n",
    "ax.set_ylabel('SML (nT)')\n",
    "ax.legend()\n",
    "ax.set_title('SML onset but no SMLnight onset')\n",
    "ax.xaxis.set_major_formatter(date_form)"
   ]
  },
  {
   "cell_type": "code",
   "execution_count": null,
   "metadata": {},
   "outputs": [],
   "source": [
    "ng2011_night[ng2011_night['Date_UTC'].between(tstart,tend)]"
   ]
  },
  {
   "cell_type": "code",
   "execution_count": null,
   "metadata": {},
   "outputs": [],
   "source": [
    "ng2011_2001[ng2011_2001['Date_UTC'].between(tstart,tend)]"
   ]
  },
  {
   "attachments": {},
   "cell_type": "markdown",
   "metadata": {},
   "source": [
    "## Recreating the NG2011 Substorm onset algorithm"
   ]
  },
  {
   "cell_type": "code",
   "execution_count": null,
   "metadata": {},
   "outputs": [],
   "source": [
    "onsettimes = []\n",
    "onsetsectors = []\n",
    "sml_array = sml_lt_df[allsec_names].values\n",
    "\n",
    "untilnext = 0\n",
    "for index, __ in SMLalldf[:-30].iterrows():\n",
    "    onsettime = SMLalldf['Date_UTC'][index]\n",
    "    onsetsml = SMLalldf['SMLall'][index]\n",
    "    onsetsector = np.where(sml_array[index]==onsetsml)[0]\n",
    "    if untilnext > 1:\n",
    "        untilnext -= 1\n",
    "        continue\n",
    "    if SMLalldf['SMLall'][index + 1] - onsetsml < -15:\n",
    "        if SMLalldf['SMLall'][index + 2] - onsetsml < -30:\n",
    "            if SMLalldf['SMLall'][index + 3] - onsetsml <= -45:\n",
    "                if np.sum(SMLalldf['SMLall'][index + 4:index + 30])/26 - onsetsml < -100:\n",
    "                    onsettimes.append(onsettime)\n",
    "                    onsetsectors.append(', '.join([str(element) for element in onsetsector]))\n",
    "                    untilnext = 20\n",
    "    else:\n",
    "        untilnext -= 1\n",
    "        \n",
    "ng2011_all = pd.DataFrame({'Date_UTC':onsettimes, 'MLT at onset':onsetsectors})"
   ]
  },
  {
   "cell_type": "code",
   "execution_count": null,
   "metadata": {},
   "outputs": [],
   "source": [
    "ng2011_all"
   ]
  },
  {
   "cell_type": "code",
   "execution_count": null,
   "metadata": {},
   "outputs": [],
   "source": [
    "fig,ax = plt.subplots(figsize=(21, 7))\n",
    "\n",
    "t_diff = np.setdiff1d(ng2011_all['Date_UTC'], ng2011_2001['Date_UTC'])[0]\n",
    "tstart = t_diff - pd.Timedelta('45 minutes')\n",
    "tend = t_diff + pd.Timedelta('45 minutes')\n",
    "\n",
    "x = SMLalldf['Date_UTC'][SMLalldf['Date_UTC'].between(tstart,tend)]\n",
    "y = SMLalldf['SMLall'][SMLalldf['Date_UTC'].between(tstart,tend)]\n",
    "x1 = sme_df['Date_UTC'][sme_df['Date_UTC'].between(tstart,tend)]\n",
    "y1 = sme_df['SML'][sme_df['Date_UTC'].between(tstart,tend)]\n",
    "\n",
    "ax.plot(x,y,label='SMLall')\n",
    "ax.plot(x1,y1,label='SML')\n",
    "ax.axvline(pd.to_datetime(t_diff),c='k',ls='--',label='SMLall Onset')\n",
    "ax.set_xlabel('Time')\n",
    "ax.set_ylabel('SML (nT)')\n",
    "ax.legend()\n",
    "ax.set_title('SMLall Onset but no NG2011 onset')\n",
    "ax.xaxis.set_major_formatter(date_form)"
   ]
  },
  {
   "cell_type": "code",
   "execution_count": null,
   "metadata": {},
   "outputs": [],
   "source": [
    "ng2011_all[ng2011_all['Date_UTC'].between(tstart,tend)]"
   ]
  },
  {
   "cell_type": "code",
   "execution_count": null,
   "metadata": {},
   "outputs": [],
   "source": [
    "ng2011_2001[ng2011_2001['Date_UTC'].between(tstart,tend)]"
   ]
  },
  {
   "cell_type": "code",
   "execution_count": null,
   "metadata": {},
   "outputs": [],
   "source": [
    "fig,ax = plt.subplots(figsize=(21, 7))\n",
    "\n",
    "t_diff = np.setdiff1d(ng2011_2001['Date_UTC'], ng2011_all['Date_UTC'])[1]\n",
    "tstart = t_diff - pd.Timedelta('45 minutes')\n",
    "tend = t_diff + pd.Timedelta('45 minutes')\n",
    "\n",
    "x = SMLalldf['Date_UTC'][SMLalldf['Date_UTC'].between(tstart,tend)]\n",
    "y = SMLalldf['SMLall'][SMLalldf['Date_UTC'].between(tstart,tend)]\n",
    "x1 = sme_df['Date_UTC'][sme_df['Date_UTC'].between(tstart,tend)]\n",
    "y1 = sme_df['SML'][sme_df['Date_UTC'].between(tstart,tend)]\n",
    "\n",
    "ax.plot(x,y,label='SMLall')\n",
    "ax.plot(x1,y1,label='SML')\n",
    "ax.axvline(pd.to_datetime(t_diff),c='k', ls='--', label='NG2011 Onset')\n",
    "ax.set_xlabel('Time')\n",
    "ax.set_ylabel('SML (nT)')\n",
    "ax.legend()\n",
    "ax.set_title('NG2011 onset but no SMLall onset')\n",
    "ax.xaxis.set_major_formatter(date_form)"
   ]
  },
  {
   "cell_type": "code",
   "execution_count": null,
   "metadata": {},
   "outputs": [],
   "source": [
    "ng2011_all[ng2011_all['Date_UTC'].between(tstart,tend)]"
   ]
  },
  {
   "cell_type": "code",
   "execution_count": null,
   "metadata": {},
   "outputs": [],
   "source": [
    "ng2011_2001[ng2011_2001['Date_UTC'].between(tstart,tend)]"
   ]
  },
  {
   "attachments": {},
   "cell_type": "markdown",
   "metadata": {},
   "source": [
    "Realisation: Newell onset list taking onset location station as not the contributing station to SML at time of onset. Is SOPHIE the same as this."
   ]
  },
  {
   "cell_type": "code",
   "execution_count": null,
   "metadata": {},
   "outputs": [],
   "source": []
  }
 ],
 "metadata": {
  "kernelspec": {
   "display_name": "base",
   "language": "python",
   "name": "python3"
  },
  "language_info": {
   "codemirror_mode": {
    "name": "ipython",
    "version": 3
   },
   "file_extension": ".py",
   "mimetype": "text/x-python",
   "name": "python",
   "nbconvert_exporter": "python",
   "pygments_lexer": "ipython3",
   "version": "3.9.13"
  },
  "orig_nbformat": 4
 },
 "nbformat": 4,
 "nbformat_minor": 2
}
